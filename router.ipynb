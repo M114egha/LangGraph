{
 "cells": [
  {
   "cell_type": "code",
   "execution_count": 1,
   "id": "cafff866",
   "metadata": {},
   "outputs": [
    {
     "data": {
      "text/plain": [
       "True"
      ]
     },
     "execution_count": 1,
     "metadata": {},
     "output_type": "execute_result"
    }
   ],
   "source": [
    "from langchain_groq import ChatGroq\n",
    "from langgraph.graph  import StateGraph   , START , END\n",
    "from langgraph.graph import MessagesState\n",
    "from IPython.display   import Image , display\n",
    "from langchain_core.tools import tool\n",
    "from langgraph.prebuilt import tools_condition\n",
    "from langgraph.prebuilt import ToolNode\n",
    "import os \n",
    "from dotenv import load_dotenv\n",
    "load_dotenv()"
   ]
  },
  {
   "cell_type": "code",
   "execution_count": 2,
   "id": "58193084",
   "metadata": {},
   "outputs": [],
   "source": [
    "model = ChatGroq(\n",
    "    model=\"llama-3.1-8b-instant\",   \n",
    "    api_key=os.getenv(\"GROQ_API_KEY\"),\n",
    "    temperature=0\n",
    ")"
   ]
  },
  {
   "cell_type": "code",
   "execution_count": 3,
   "id": "13bf1c9a",
   "metadata": {},
   "outputs": [],
   "source": [
    "def  multiply(x:int , y:int )-> int :\n",
    "    \"\"\"Returns the multiplication of given two integers\"\"\"\n",
    "    return  x*y "
   ]
  },
  {
   "cell_type": "code",
   "execution_count": 4,
   "id": "7b7086c5",
   "metadata": {},
   "outputs": [],
   "source": [
    "llm_with_tools = model.bind_tools([multiply])\n",
    "\n",
    "\n",
    "def tool_calling_llm(state:MessagesState):\n",
    "    return { \"messages\" : llm_with_tools.invoke(state[\"messages\"])}"
   ]
  },
  {
   "cell_type": "code",
   "execution_count": 5,
   "id": "fced9217",
   "metadata": {},
   "outputs": [
    {
     "data": {
      "image/png": "[encoded data removed]",
      "text/plain": [
       "<IPython.core.display.Image object>"
      ]
     },
     "metadata": {},
     "output_type": "display_data"
    }
   ],
   "source": [
    "builder= StateGraph(MessagesState)\n",
    "builder.add_node(\"tool_calling_llm\" , tool_calling_llm)\n",
    "builder.add_node(\"tools\" , ToolNode([multiply]))\n",
    "\n",
    "builder.add_edge(START , \"tool_calling_llm\")\n",
    "builder.add_conditional_edges( \"tool_calling_llm\" ,tools_condition)\n",
    "builder.add_edge(\"tools\" , END)\n",
    "\n",
    "graph= builder.compile()\n",
    "\n",
    "display(Image(graph.get_graph().draw_mermaid_png()))"
   ]
  },
  {
   "cell_type": "code",
   "execution_count": 9,
   "id": "0f73079b",
   "metadata": {},
   "outputs": [
    {
     "name": "stdout",
     "output_type": "stream",
     "text": [
      "================================\u001b[1m Human Message \u001b[0m=================================\n",
      "\n",
      "Multiply 3 and 4\n",
      "==================================\u001b[1m Ai Message \u001b[0m==================================\n",
      "Tool Calls:\n",
      "  multiply (qwwgch2en)\n",
      " Call ID: qwwgch2en\n",
      "  Args:\n",
      "    x: 3\n",
      "    y: 4\n",
      "=================================\u001b[1m Tool Message \u001b[0m=================================\n",
      "Name: multiply\n",
      "\n",
      "12\n"
     ]
    }
   ],
   "source": [
    "from langchain_core.messages import HumanMessage\n",
    "messages=[HumanMessage(content= \"Multiply 3 and 4\")]\n",
    "messages= graph.invoke({\"messages\":messages})\n",
    "\n",
    "for m in messages['messages']:\n",
    "    m.pretty_print()\n",
    "\n"
   ]
  },
  {
   "cell_type": "code",
   "execution_count": null,
   "id": "6b62cba4",
   "metadata": {},
   "outputs": [],
   "source": []
  }
 ],
 "metadata": {
  "kernelspec": {
   "display_name": "Python 3",
   "language": "python",
   "name": "python3"
  },
  "language_info": {
   "codemirror_mode": {
    "name": "ipython",
    "version": 3
   },
   "file_extension": ".py",
   "mimetype": "text/x-python",
   "name": "python",
   "nbconvert_exporter": "python",
   "pygments_lexer": "ipython3",
   "version": "3.13.7"
  }
 },
 "nbformat": 4,
 "nbformat_minor": 5
}
