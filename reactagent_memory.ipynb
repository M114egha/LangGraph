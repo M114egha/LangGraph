{
 "cells": [
  {
   "cell_type": "code",
   "execution_count": 1,
   "id": "8979e14f",
   "metadata": {},
   "outputs": [
    {
     "data": {
      "text/plain": [
       "True"
      ]
     },
     "execution_count": 1,
     "metadata": {},
     "output_type": "execute_result"
    }
   ],
   "source": [
    "from IPython.display   import Image , display\n",
    "from langchain_groq import ChatGroq\n",
    "from langchain_core.tools import tool\n",
    "from langchain_core.messages import SystemMessage, HumanMessage\n",
    "from langgraph.graph  import StateGraph   , START , END\n",
    "from langgraph.graph import MessagesState\n",
    "from langgraph.prebuilt import tools_condition\n",
    "from langgraph.prebuilt import ToolNode\n",
    "\n",
    "import os \n",
    "from dotenv import load_dotenv\n",
    "load_dotenv()"
   ]
  },
  {
   "cell_type": "code",
   "execution_count": 2,
   "id": "50b689d5",
   "metadata": {},
   "outputs": [],
   "source": [
    "model = ChatGroq(\n",
    "    model=\"llama-3.1-8b-instant\",   \n",
    "    api_key=os.getenv(\"GROQ_API_KEY\"),\n",
    "    temperature=0\n",
    ")"
   ]
  },
  {
   "cell_type": "code",
   "execution_count": 3,
   "id": "678fc575",
   "metadata": {},
   "outputs": [],
   "source": [
    "@tool\n",
    "def multiply(x:int , y:int)-> int:\n",
    "    \"\"\"Returns the multiplication of given two integers\"\"\"\n",
    "    return x*y\n",
    "\n",
    "@tool\n",
    "def add(x:int , y:int)->int:\n",
    "    \"\"\"Returns the addition of given two integers \"\"\"\n",
    "    return x+y \n",
    "\n",
    "@tool\n",
    "def divide(x:int , y:int)-> int:\n",
    "    \"\"\"Returns the division of given two integers\"\"\"\n",
    "    return x/y"
   ]
  },
  {
   "cell_type": "code",
   "execution_count": 4,
   "id": "89bd29c0",
   "metadata": {},
   "outputs": [],
   "source": [
    "tools=[multiply , add , divide]\n",
    "llm_with_tools= model.bind_tools(tools)"
   ]
  },
  {
   "cell_type": "code",
   "execution_count": 5,
   "id": "ce44f77f",
   "metadata": {},
   "outputs": [],
   "source": [
    "sys_msg=SystemMessage(content= \"You are a helpful assisstant tasked with performing arithmetic actions on a  given set of inputs\")"
   ]
  },
  {
   "cell_type": "code",
   "execution_count": 6,
   "id": "27cace42",
   "metadata": {},
   "outputs": [],
   "source": [
    "def assistant(state:MessagesState):\n",
    "    return {\"messages\":[llm_with_tools.invoke([sys_msg] + state[\"messages\"] ) ] }\n"
   ]
  },
  {
   "cell_type": "code",
   "execution_count": 7,
   "id": "a117cb95",
   "metadata": {},
   "outputs": [
    {
     "data": {
      "text/plain": [
       "<langgraph.graph.state.StateGraph at 0x1a3e69f8ec0>"
      ]
     },
     "execution_count": 7,
     "metadata": {},
     "output_type": "execute_result"
    }
   ],
   "source": [
    "builder= StateGraph(MessagesState)\n",
    "builder.add_node(\"tools\" , ToolNode(tools))\n",
    "builder.add_node(\"assistant\" , assistant)\n",
    "\n",
    "builder.add_edge(START , \"assistant\")\n",
    "builder.add_conditional_edges(\"assistant\" , tools_condition)\n",
    "builder.add_edge(\"tools\" , \"assistant\")\n",
    "#react_graph=builder.compile()\n",
    "\n",
    "#display(Image(react_graph.get_graph().draw_mermaid_png()))"
   ]
  },
  {
   "cell_type": "code",
   "execution_count": 8,
   "id": "22e0f036",
   "metadata": {},
   "outputs": [],
   "source": [
    "from langgraph.checkpoint.memory import MemorySaver\n",
    "memory = MemorySaver()\n",
    "react_graph_memory= builder.compile(checkpointer= memory)"
   ]
  },
  {
   "cell_type": "code",
   "execution_count": 9,
   "id": "1a7403f5",
   "metadata": {},
   "outputs": [
    {
     "name": "stdout",
     "output_type": "stream",
     "text": [
      "================================\u001b[1m Human Message \u001b[0m=================================\n",
      "\n",
      "add 3 and 4\n",
      "==================================\u001b[1m Ai Message \u001b[0m==================================\n",
      "Tool Calls:\n",
      "  add (r48gpfrt5)\n",
      " Call ID: r48gpfrt5\n",
      "  Args:\n",
      "    x: 3\n",
      "    y: 4\n",
      "=================================\u001b[1m Tool Message \u001b[0m=================================\n",
      "Name: add\n",
      "\n",
      "7\n",
      "==================================\u001b[1m Ai Message \u001b[0m==================================\n",
      "\n",
      "The result of the addition of 3 and 4 is 7.\n"
     ]
    }
   ],
   "source": [
    "config = {\"configurable\": {\"thread_id\":\"1\"}}\n",
    "\n",
    "messages= [HumanMessage(content = \"add 3 and 4\")]\n",
    "\n",
    "messages = react_graph_memory.invoke({\"messages\":messages} , config)\n",
    "for m in messages['messages']:\n",
    "    m.pretty_print()\n",
    "\n"
   ]
  },
  {
   "cell_type": "code",
   "execution_count": 10,
   "id": "ce722626",
   "metadata": {},
   "outputs": [
    {
     "name": "stdout",
     "output_type": "stream",
     "text": [
      "================================\u001b[1m Human Message \u001b[0m=================================\n",
      "\n",
      "add 3 and 4\n",
      "==================================\u001b[1m Ai Message \u001b[0m==================================\n",
      "Tool Calls:\n",
      "  add (r48gpfrt5)\n",
      " Call ID: r48gpfrt5\n",
      "  Args:\n",
      "    x: 3\n",
      "    y: 4\n",
      "=================================\u001b[1m Tool Message \u001b[0m=================================\n",
      "Name: add\n",
      "\n",
      "7\n",
      "==================================\u001b[1m Ai Message \u001b[0m==================================\n",
      "\n",
      "The result of the addition of 3 and 4 is 7.\n",
      "================================\u001b[1m Human Message \u001b[0m=================================\n",
      "\n",
      "Multiply that by 2\n",
      "==================================\u001b[1m Ai Message \u001b[0m==================================\n",
      "Tool Calls:\n",
      "  multiply (fs6ze75qq)\n",
      " Call ID: fs6ze75qq\n",
      "  Args:\n",
      "    x: 7\n",
      "    y: 2\n",
      "=================================\u001b[1m Tool Message \u001b[0m=================================\n",
      "Name: multiply\n",
      "\n",
      "14\n",
      "==================================\u001b[1m Ai Message \u001b[0m==================================\n",
      "\n",
      "The result of the multiplication of 7 and 2 is 14.\n"
     ]
    }
   ],
   "source": [
    "messages= [HumanMessage(content = \"Multiply that by 2\")]\n",
    "\n",
    "messages = react_graph_memory.invoke({\"messages\":messages} , config)\n",
    "for m in messages['messages']:\n",
    "    m.pretty_print()"
   ]
  },
  {
   "cell_type": "code",
   "execution_count": null,
   "id": "b7b37672",
   "metadata": {},
   "outputs": [],
   "source": []
  }
 ],
 "metadata": {
  "kernelspec": {
   "display_name": "Python 3",
   "language": "python",
   "name": "python3"
  },
  "language_info": {
   "codemirror_mode": {
    "name": "ipython",
    "version": 3
   },
   "file_extension": ".py",
   "mimetype": "text/x-python",
   "name": "python",
   "nbconvert_exporter": "python",
   "pygments_lexer": "ipython3",
   "version": "3.13.7"
  }
 },
 "nbformat": 4,
 "nbformat_minor": 5
}
